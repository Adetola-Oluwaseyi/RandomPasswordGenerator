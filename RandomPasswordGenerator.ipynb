{
 "cells": [
  {
   "cell_type": "code",
   "execution_count": 61,
   "metadata": {},
   "outputs": [],
   "source": [
    "import string\n",
    "import random"
   ]
  },
  {
   "cell_type": "code",
   "execution_count": 62,
   "metadata": {},
   "outputs": [],
   "source": [
    "class Characters:    \n",
    "    def _symbols(self):\n",
    "        symbols = \"! ` $ % ^ & * ( ) _ - + = # ~ } ] { [ : ; ' ] } < , > . / * |\"\n",
    "        symbols = symbols.split()\n",
    "        return symbols\n",
    "    \n",
    "    def _numbers(self):\n",
    "        numbers = \"0 1 2 3 4 5 6 7 8 9 0 1 2 3 4 5 6 7 8 9 0 1 2 3 4 5\".split()\n",
    "        return numbers\n",
    "    \n",
    "    def _capital_letters(self):\n",
    "        caps = list(string.ascii_uppercase)\n",
    "        return caps\n",
    "        \n",
    "    def _small_letters(self):\n",
    "        small = list(string.ascii_lowercase)         \n",
    "        return small"
   ]
  },
  {
   "cell_type": "code",
   "execution_count": 63,
   "metadata": {},
   "outputs": [],
   "source": [
    "class Password_generator:\n",
    "    \n",
    "    def password(self, value):        \n",
    "        character = Characters()\n",
    "        numbers = character._numbers()\n",
    "        capital_letters = character._capital_letters()\n",
    "        small_letters = character._small_letters()\n",
    "        symbols = character._symbols()\n",
    "        characters = [numbers, capital_letters, small_letters, symbols]\n",
    "        password = \"\"\n",
    "        for passw in range(value):\n",
    "            index1 = random.randint(0, 3)\n",
    "            index2 = random.randint(0, 25)\n",
    "            password += str(characters[index1][index2])\n",
    "        return password\n",
    "    \n",
    "   \n",
    "        "
   ]
  },
  {
   "cell_type": "code",
   "execution_count": 64,
   "metadata": {},
   "outputs": [],
   "source": [
    "def main():\n",
    "    value = int(input(\"How long do you want your password to be: \"))\n",
    "\n",
    "    if value < 1: \n",
    "        raise Exception(\"Would not accept a password length less than 1!\")\n",
    "\n",
    "    gene = Password_generator()\n",
    "    return gene.password(value)"
   ]
  }
 ],
 "metadata": {
  "kernelspec": {
   "display_name": "Python 3",
   "language": "python",
   "name": "python3"
  },
  "language_info": {
   "codemirror_mode": {
    "name": "ipython",
    "version": 3
   },
   "file_extension": ".py",
   "mimetype": "text/x-python",
   "name": "python",
   "nbconvert_exporter": "python",
   "pygments_lexer": "ipython3",
   "version": "3.8.5"
  }
 },
 "nbformat": 4,
 "nbformat_minor": 4
}
